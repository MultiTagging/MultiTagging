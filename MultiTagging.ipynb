{
 "cells": [
  {
   "cell_type": "code",
   "execution_count": 1,
   "metadata": {},
   "outputs": [],
   "source": [
    "from Scripts.tagger import generateTags\n",
    "import pandas as pd"
   ]
  },
  {
   "attachments": {},
   "cell_type": "markdown",
   "metadata": {},
   "source": [
    "# **1. Git Labled DS**\n",
    "* Call generateTags method to git the labeled DS as follow: generateTags('Tool Name',reportSource)\n",
    "* reportSource is an integer number 0 or 1.\n",
    "    - 0: Tool is used directly.\n",
    "    - 1: Smartbugs framework is used to run the tool.\n",
    "---"
   ]
  },
  {
   "attachments": {},
   "cell_type": "markdown",
   "metadata": {},
   "source": [
    "## **1.1 MAIAN-based Labeled DS**\n",
    "---"
   ]
  },
  {
   "cell_type": "code",
   "execution_count": 14,
   "metadata": {},
   "outputs": [
    {
     "data": {
      "text/html": [
       "<div>\n",
       "<style scoped>\n",
       "    .dataframe tbody tr th:only-of-type {\n",
       "        vertical-align: middle;\n",
       "    }\n",
       "\n",
       "    .dataframe tbody tr th {\n",
       "        vertical-align: top;\n",
       "    }\n",
       "\n",
       "    .dataframe thead th {\n",
       "        text-align: right;\n",
       "    }\n",
       "</style>\n",
       "<table border=\"1\" class=\"dataframe\">\n",
       "  <thead>\n",
       "    <tr style=\"text-align: right;\">\n",
       "      <th></th>\n",
       "      <th>contractAddress</th>\n",
       "      <th>MAIAN_Labels</th>\n",
       "      <th>MAIAN_AnalysisTime</th>\n",
       "    </tr>\n",
       "  </thead>\n",
       "  <tbody>\n",
       "    <tr>\n",
       "      <th>0</th>\n",
       "      <td>0x01673796C51EDfFba3EAb7bf308bEA352D73A017</td>\n",
       "      <td>error</td>\n",
       "      <td>9.121075</td>\n",
       "    </tr>\n",
       "    <tr>\n",
       "      <th>1</th>\n",
       "      <td>0x01d15f42d8667636287a9d7f21de7847a7b6e37a</td>\n",
       "      <td>error</td>\n",
       "      <td>32.852319</td>\n",
       "    </tr>\n",
       "    <tr>\n",
       "      <th>2</th>\n",
       "      <td>0x05763b092b45e6519c4f734b7ef118049c5173e7</td>\n",
       "      <td>{No_Ether_leak_no_send,No_Ether_lock_Ether_ref...</td>\n",
       "      <td>208.369599</td>\n",
       "    </tr>\n",
       "    <tr>\n",
       "      <th>3</th>\n",
       "      <td>0x069Af65cb48caa41fe8FD1dd8cEF5e6FCBb6d555</td>\n",
       "      <td>{No_Ether_leak_no_send,No_Ether_lock_Ether_ref...</td>\n",
       "      <td>131.429030</td>\n",
       "    </tr>\n",
       "    <tr>\n",
       "      <th>4</th>\n",
       "      <td>0x06eb1dd99ed2dac37d0c677114370bb656e0809a</td>\n",
       "      <td>{No_Ether_leak_no_send,No_Ether_lock_Ether_ref...</td>\n",
       "      <td>237.607849</td>\n",
       "    </tr>\n",
       "    <tr>\n",
       "      <th>...</th>\n",
       "      <td>...</td>\n",
       "      <td>...</td>\n",
       "      <td>...</td>\n",
       "    </tr>\n",
       "    <tr>\n",
       "      <th>111</th>\n",
       "      <td>0xf03E8FE4D5733D562C491825f1c975Bd9bA90455</td>\n",
       "      <td>{No_Ether_leak_no_send,No_Ether_lock_Ether_ref...</td>\n",
       "      <td>155.165620</td>\n",
       "    </tr>\n",
       "    <tr>\n",
       "      <th>112</th>\n",
       "      <td>0xf5F62C527a2D6685dcE359B8A337cc53b303b5CE</td>\n",
       "      <td>{No_Ether_leak_no_send,No_Ether_lock_Ether_ref...</td>\n",
       "      <td>532.344192</td>\n",
       "    </tr>\n",
       "    <tr>\n",
       "      <th>113</th>\n",
       "      <td>0xf8Bb91817A960C3e23AE8ae75dE1C070Faee0823</td>\n",
       "      <td>{No_Ether_leak_no_send,No_Ether_lock_Ether_ref...</td>\n",
       "      <td>254.186630</td>\n",
       "    </tr>\n",
       "    <tr>\n",
       "      <th>114</th>\n",
       "      <td>0xfc3DEd3B02c0B58089A9B5d13772DBe1496F91eC</td>\n",
       "      <td>{No_Ether_leak_no_send,No_Ether_lock_Ether_ref...</td>\n",
       "      <td>88.024100</td>\n",
       "    </tr>\n",
       "    <tr>\n",
       "      <th>115</th>\n",
       "      <td>0xfe2c12ab95666d9c54a094b1a45a9ca526789efa</td>\n",
       "      <td>{No_Ether_leak_no_send,No_Ether_lock_Ether_ref...</td>\n",
       "      <td>167.655846</td>\n",
       "    </tr>\n",
       "  </tbody>\n",
       "</table>\n",
       "<p>116 rows × 3 columns</p>\n",
       "</div>"
      ],
      "text/plain": [
       "                                contractAddress  \\\n",
       "0    0x01673796C51EDfFba3EAb7bf308bEA352D73A017   \n",
       "1    0x01d15f42d8667636287a9d7f21de7847a7b6e37a   \n",
       "2    0x05763b092b45e6519c4f734b7ef118049c5173e7   \n",
       "3    0x069Af65cb48caa41fe8FD1dd8cEF5e6FCBb6d555   \n",
       "4    0x06eb1dd99ed2dac37d0c677114370bb656e0809a   \n",
       "..                                          ...   \n",
       "111  0xf03E8FE4D5733D562C491825f1c975Bd9bA90455   \n",
       "112  0xf5F62C527a2D6685dcE359B8A337cc53b303b5CE   \n",
       "113  0xf8Bb91817A960C3e23AE8ae75dE1C070Faee0823   \n",
       "114  0xfc3DEd3B02c0B58089A9B5d13772DBe1496F91eC   \n",
       "115  0xfe2c12ab95666d9c54a094b1a45a9ca526789efa   \n",
       "\n",
       "                                          MAIAN_Labels  MAIAN_AnalysisTime  \n",
       "0                                                error            9.121075  \n",
       "1                                                error           32.852319  \n",
       "2    {No_Ether_leak_no_send,No_Ether_lock_Ether_ref...          208.369599  \n",
       "3    {No_Ether_leak_no_send,No_Ether_lock_Ether_ref...          131.429030  \n",
       "4    {No_Ether_leak_no_send,No_Ether_lock_Ether_ref...          237.607849  \n",
       "..                                                 ...                 ...  \n",
       "111  {No_Ether_leak_no_send,No_Ether_lock_Ether_ref...          155.165620  \n",
       "112  {No_Ether_leak_no_send,No_Ether_lock_Ether_ref...          532.344192  \n",
       "113  {No_Ether_leak_no_send,No_Ether_lock_Ether_ref...          254.186630  \n",
       "114  {No_Ether_leak_no_send,No_Ether_lock_Ether_ref...           88.024100  \n",
       "115  {No_Ether_leak_no_send,No_Ether_lock_Ether_ref...          167.655846  \n",
       "\n",
       "[116 rows x 3 columns]"
      ]
     },
     "execution_count": 14,
     "metadata": {},
     "output_type": "execute_result"
    }
   ],
   "source": [
    "MAIANDS =pd.DataFrame(generateTags('MAIAN',1))\n",
    "MAIANDS"
   ]
  },
  {
   "attachments": {},
   "cell_type": "markdown",
   "metadata": {},
   "source": [
    "## **1.2. Mythril-based Labeled DS**\n",
    "---"
   ]
  },
  {
   "cell_type": "code",
   "execution_count": 2,
   "metadata": {},
   "outputs": [
    {
     "name": "stdout",
     "output_type": "stream",
     "text": [
      "Mythril tags have been extracted successfully\n",
      "Mapping/VulnerablityMap.xlsx\n"
     ]
    },
    {
     "data": {
      "text/html": [
       "<div>\n",
       "<style scoped>\n",
       "    .dataframe tbody tr th:only-of-type {\n",
       "        vertical-align: middle;\n",
       "    }\n",
       "\n",
       "    .dataframe tbody tr th {\n",
       "        vertical-align: top;\n",
       "    }\n",
       "\n",
       "    .dataframe thead th {\n",
       "        text-align: right;\n",
       "    }\n",
       "</style>\n",
       "<table border=\"1\" class=\"dataframe\">\n",
       "  <thead>\n",
       "    <tr style=\"text-align: right;\">\n",
       "      <th></th>\n",
       "    </tr>\n",
       "  </thead>\n",
       "  <tbody>\n",
       "  </tbody>\n",
       "</table>\n",
       "</div>"
      ],
      "text/plain": [
       "Empty DataFrame\n",
       "Columns: []\n",
       "Index: []"
      ]
     },
     "execution_count": 2,
     "metadata": {},
     "output_type": "execute_result"
    }
   ],
   "source": [
    "MythrilDS =pd.DataFrame(generateTags('Mythril',0))\n",
    "MythrilDS"
   ]
  },
  {
   "attachments": {},
   "cell_type": "markdown",
   "metadata": {},
   "source": [
    "## **1.3. Semgrep-based Labeled DS**\n",
    "---"
   ]
  },
  {
   "cell_type": "code",
   "execution_count": 9,
   "metadata": {},
   "outputs": [
    {
     "data": {
      "text/html": [
       "<div>\n",
       "<style scoped>\n",
       "    .dataframe tbody tr th:only-of-type {\n",
       "        vertical-align: middle;\n",
       "    }\n",
       "\n",
       "    .dataframe tbody tr th {\n",
       "        vertical-align: top;\n",
       "    }\n",
       "\n",
       "    .dataframe thead th {\n",
       "        text-align: right;\n",
       "    }\n",
       "</style>\n",
       "<table border=\"1\" class=\"dataframe\">\n",
       "  <thead>\n",
       "    <tr style=\"text-align: right;\">\n",
       "      <th></th>\n",
       "      <th>contractAddress</th>\n",
       "      <th>Semgrep_Labels</th>\n",
       "      <th>Semgrep_AnalysisTime</th>\n",
       "    </tr>\n",
       "  </thead>\n",
       "  <tbody>\n",
       "    <tr>\n",
       "      <th>0</th>\n",
       "      <td>0x00000000062c52e29e8029dc2413172f6d619d85</td>\n",
       "      <td>{use_custom_error_not_require,use_short_revert...</td>\n",
       "      <td>2.126519</td>\n",
       "    </tr>\n",
       "    <tr>\n",
       "      <th>1</th>\n",
       "      <td>0x000f9119e37477e96d7be8aca547e33e0ca20c8c</td>\n",
       "      <td>{non_payable_constructor,unnecessary_checked_a...</td>\n",
       "      <td>2.050554</td>\n",
       "    </tr>\n",
       "    <tr>\n",
       "      <th>2</th>\n",
       "      <td>0x001e9f8aa2bb68ef4f6146ba4b61700260e72e3b</td>\n",
       "      <td>{inefficient_state_variable_increment,non_paya...</td>\n",
       "      <td>2.151056</td>\n",
       "    </tr>\n",
       "    <tr>\n",
       "      <th>3</th>\n",
       "      <td>0x0031d66661888ab4321dbd06901352b7d9a17da2</td>\n",
       "      <td>{non_payable_constructor,unnecessary_checked_a...</td>\n",
       "      <td>2.094095</td>\n",
       "    </tr>\n",
       "    <tr>\n",
       "      <th>4</th>\n",
       "      <td>0x00352c50f440539d18ac62e0c38f181a59430e79</td>\n",
       "      <td>{inefficient_state_variable_increment,non_paya...</td>\n",
       "      <td>2.165322</td>\n",
       "    </tr>\n",
       "    <tr>\n",
       "      <th>...</th>\n",
       "      <td>...</td>\n",
       "      <td>...</td>\n",
       "      <td>...</td>\n",
       "    </tr>\n",
       "    <tr>\n",
       "      <th>1972</th>\n",
       "      <td>0xf03E8FE4D5733D562C491825f1c975Bd9bA90455</td>\n",
       "      <td>{array_length_outside_loop,erc721_reentrancy,i...</td>\n",
       "      <td>2.720253</td>\n",
       "    </tr>\n",
       "    <tr>\n",
       "      <th>1973</th>\n",
       "      <td>0xf5F62C527a2D6685dcE359B8A337cc53b303b5CE</td>\n",
       "      <td>{array_length_outside_loop,inefficient_state_v...</td>\n",
       "      <td>3.432565</td>\n",
       "    </tr>\n",
       "    <tr>\n",
       "      <th>1974</th>\n",
       "      <td>0xf8Bb91817A960C3e23AE8ae75dE1C070Faee0823</td>\n",
       "      <td>{inefficient_state_variable_increment,init_var...</td>\n",
       "      <td>2.366783</td>\n",
       "    </tr>\n",
       "    <tr>\n",
       "      <th>1975</th>\n",
       "      <td>0xfc3DEd3B02c0B58089A9B5d13772DBe1496F91eC</td>\n",
       "      <td>{array_length_outside_loop,init_variables_with...</td>\n",
       "      <td>2.238994</td>\n",
       "    </tr>\n",
       "    <tr>\n",
       "      <th>1976</th>\n",
       "      <td>0xfe2c12ab95666d9c54a094b1a45a9ca526789efa</td>\n",
       "      <td>{array_length_outside_loop,erc721_reentrancy,i...</td>\n",
       "      <td>2.550288</td>\n",
       "    </tr>\n",
       "  </tbody>\n",
       "</table>\n",
       "<p>1977 rows × 3 columns</p>\n",
       "</div>"
      ],
      "text/plain": [
       "                                 contractAddress  \\\n",
       "0     0x00000000062c52e29e8029dc2413172f6d619d85   \n",
       "1     0x000f9119e37477e96d7be8aca547e33e0ca20c8c   \n",
       "2     0x001e9f8aa2bb68ef4f6146ba4b61700260e72e3b   \n",
       "3     0x0031d66661888ab4321dbd06901352b7d9a17da2   \n",
       "4     0x00352c50f440539d18ac62e0c38f181a59430e79   \n",
       "...                                          ...   \n",
       "1972  0xf03E8FE4D5733D562C491825f1c975Bd9bA90455   \n",
       "1973  0xf5F62C527a2D6685dcE359B8A337cc53b303b5CE   \n",
       "1974  0xf8Bb91817A960C3e23AE8ae75dE1C070Faee0823   \n",
       "1975  0xfc3DEd3B02c0B58089A9B5d13772DBe1496F91eC   \n",
       "1976  0xfe2c12ab95666d9c54a094b1a45a9ca526789efa   \n",
       "\n",
       "                                         Semgrep_Labels  Semgrep_AnalysisTime  \n",
       "0     {use_custom_error_not_require,use_short_revert...              2.126519  \n",
       "1     {non_payable_constructor,unnecessary_checked_a...              2.050554  \n",
       "2     {inefficient_state_variable_increment,non_paya...              2.151056  \n",
       "3     {non_payable_constructor,unnecessary_checked_a...              2.094095  \n",
       "4     {inefficient_state_variable_increment,non_paya...              2.165322  \n",
       "...                                                 ...                   ...  \n",
       "1972  {array_length_outside_loop,erc721_reentrancy,i...              2.720253  \n",
       "1973  {array_length_outside_loop,inefficient_state_v...              3.432565  \n",
       "1974  {inefficient_state_variable_increment,init_var...              2.366783  \n",
       "1975  {array_length_outside_loop,init_variables_with...              2.238994  \n",
       "1976  {array_length_outside_loop,erc721_reentrancy,i...              2.550288  \n",
       "\n",
       "[1977 rows x 3 columns]"
      ]
     },
     "execution_count": 9,
     "metadata": {},
     "output_type": "execute_result"
    }
   ],
   "source": [
    "SemgrepDS =pd.DataFrame(generateTags('Semgrep',1))\n",
    "SemgrepDS"
   ]
  },
  {
   "attachments": {},
   "cell_type": "markdown",
   "metadata": {},
   "source": [
    "## **1.4. Slither-based Labeled DS**\n",
    "---"
   ]
  },
  {
   "cell_type": "code",
   "execution_count": null,
   "metadata": {},
   "outputs": [],
   "source": [
    "SlitherDS =pd.DataFrame(generateTags('Slither',0))\n",
    "SlitherDS"
   ]
  },
  {
   "attachments": {},
   "cell_type": "markdown",
   "metadata": {},
   "source": [
    "## **1.5. Solhint-based Labeled DS**\n",
    "---"
   ]
  },
  {
   "cell_type": "code",
   "execution_count": null,
   "metadata": {},
   "outputs": [],
   "source": [
    "SolhintDS =pd.DataFrame(generateTags('Solhint',0))\n",
    "SolhintDS"
   ]
  },
  {
   "attachments": {},
   "cell_type": "markdown",
   "metadata": {},
   "source": [
    "## **1.6. VeriSmart-based Labeled DS**\n",
    "---"
   ]
  },
  {
   "cell_type": "code",
   "execution_count": null,
   "metadata": {},
   "outputs": [],
   "source": [
    "VeriSmartDS =pd.DataFrame(generateTags('VeriSmart',0))\n",
    "VeriSmartDS"
   ]
  }
 ],
 "metadata": {
  "kernelspec": {
   "display_name": "Python 3",
   "language": "python",
   "name": "python3"
  },
  "language_info": {
   "codemirror_mode": {
    "name": "ipython",
    "version": 3
   },
   "file_extension": ".py",
   "mimetype": "text/x-python",
   "name": "python",
   "nbconvert_exporter": "python",
   "pygments_lexer": "ipython3",
   "version": "3.11.7"
  },
  "orig_nbformat": 4
 },
 "nbformat": 4,
 "nbformat_minor": 2
}
